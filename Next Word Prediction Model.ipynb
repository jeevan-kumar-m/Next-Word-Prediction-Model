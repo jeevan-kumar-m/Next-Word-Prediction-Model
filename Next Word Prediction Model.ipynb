{
 "cells": [
  {
   "cell_type": "markdown",
   "id": "9cc3f872",
   "metadata": {},
   "source": [
    "# Importing Required Libraries"
   ]
  },
  {
   "cell_type": "code",
   "execution_count": 1,
   "id": "93e44342",
   "metadata": {},
   "outputs": [],
   "source": [
    "import numpy as np\n",
    "import tensorflow as tf\n",
    "from tensorflow.keras.preprocessing.text import Tokenizer\n",
    "from tensorflow.keras.preprocessing.sequence import pad_sequences\n",
    "from tensorflow.keras.models import Sequential\n",
    "from tensorflow.keras.layers import Embedding, LSTM, Dense\n",
    "\n",
    "# Read the text file\n",
    "with open('sherlock-holm.es_stories_plain-text_advs.txt', 'r', encoding='utf-8') as file:\n",
    "    text = file.read()"
   ]
  },
  {
   "cell_type": "markdown",
   "id": "19171cd8",
   "metadata": {},
   "source": [
    "tokenize the text to create a sequence of words:"
   ]
  },
  {
   "cell_type": "code",
   "execution_count": 2,
   "id": "d14ab65c",
   "metadata": {},
   "outputs": [],
   "source": [
    "tokenizer = Tokenizer()\n",
    "tokenizer.fit_on_texts([text])\n",
    "total_words = len(tokenizer.word_index) + 1"
   ]
  },
  {
   "cell_type": "markdown",
   "id": "cf3bdb11",
   "metadata": {},
   "source": [
    "create input-output pairs by splitting the text into sequences of tokens and forming n-grams from the sequences:"
   ]
  },
  {
   "cell_type": "code",
   "execution_count": 3,
   "id": "8cd26e95",
   "metadata": {},
   "outputs": [],
   "source": [
    "input_sequences = []\n",
    "for line in text.split('\\n'):\n",
    "    token_list = tokenizer.texts_to_sequences([line])[0]\n",
    "    for i in range(1, len(token_list)):\n",
    "        n_gram_sequence = token_list[:i+1]\n",
    "        input_sequences.append(n_gram_sequence)"
   ]
  },
  {
   "cell_type": "raw",
   "id": "038fdfba",
   "metadata": {},
   "source": [
    "Optimizing Sequence Length for Input Sequences"
   ]
  },
  {
   "cell_type": "code",
   "execution_count": 4,
   "id": "628ad630",
   "metadata": {},
   "outputs": [],
   "source": [
    "max_sequence_len = max([len(seq) for seq in input_sequences])\n",
    "input_sequences = np.array(pad_sequences(input_sequences, maxlen=max_sequence_len, padding='pre'))"
   ]
  },
  {
   "cell_type": "raw",
   "id": "5d319e09",
   "metadata": {},
   "source": [
    "Assigning Variables for Sequence Processing"
   ]
  },
  {
   "cell_type": "code",
   "execution_count": 5,
   "id": "ac363ab6",
   "metadata": {},
   "outputs": [],
   "source": [
    "X = input_sequences[:, :-1]\n",
    "y = input_sequences[:, -1]"
   ]
  },
  {
   "cell_type": "raw",
   "id": "10d8b665",
   "metadata": {},
   "source": [
    "Conversion to One-Hot Encoded Labels in TensorFlow-Keras"
   ]
  },
  {
   "cell_type": "code",
   "execution_count": 6,
   "id": "6c666ca0",
   "metadata": {},
   "outputs": [],
   "source": [
    "y = np.array(tf.keras.utils.to_categorical(y, num_classes=total_words))"
   ]
  },
  {
   "cell_type": "code",
   "execution_count": 7,
   "id": "9e862e75",
   "metadata": {},
   "outputs": [
    {
     "name": "stdout",
     "output_type": "stream",
     "text": [
      "Model: \"sequential\"\n",
      "_________________________________________________________________\n",
      " Layer (type)                Output Shape              Param #   \n",
      "=================================================================\n",
      " embedding (Embedding)       (None, 17, 100)           820000    \n",
      "                                                                 \n",
      " lstm (LSTM)                 (None, 150)               150600    \n",
      "                                                                 \n",
      " dense (Dense)               (None, 8200)              1238200   \n",
      "                                                                 \n",
      "=================================================================\n",
      "Total params: 2,208,800\n",
      "Trainable params: 2,208,800\n",
      "Non-trainable params: 0\n",
      "_________________________________________________________________\n",
      "None\n"
     ]
    }
   ],
   "source": [
    "model = Sequential()\n",
    "model.add(Embedding(total_words, 100, input_length=max_sequence_len-1))\n",
    "model.add(LSTM(150))\n",
    "model.add(Dense(total_words, activation='softmax'))\n",
    "print(model.summary())"
   ]
  },
  {
   "cell_type": "raw",
   "id": "4f83de23",
   "metadata": {},
   "source": [
    "Compilation and Training of the Model in TensorFlow-Keras"
   ]
  },
  {
   "cell_type": "code",
   "execution_count": 8,
   "id": "e7cc71e8",
   "metadata": {},
   "outputs": [
    {
     "name": "stdout",
     "output_type": "stream",
     "text": [
      "Epoch 1/100\n",
      "3010/3010 [==============================] - 109s 36ms/step - loss: 6.2294 - accuracy: 0.0772\n",
      "Epoch 2/100\n",
      "3010/3010 [==============================] - 100s 33ms/step - loss: 5.4945 - accuracy: 0.1259\n",
      "Epoch 3/100\n",
      "3010/3010 [==============================] - 104s 34ms/step - loss: 5.1186 - accuracy: 0.1482\n",
      "Epoch 4/100\n",
      "3010/3010 [==============================] - 109s 36ms/step - loss: 4.7954 - accuracy: 0.1652\n",
      "Epoch 5/100\n",
      "3010/3010 [==============================] - 105s 35ms/step - loss: 4.4909 - accuracy: 0.1807\n",
      "Epoch 6/100\n",
      "3010/3010 [==============================] - 106s 35ms/step - loss: 4.2025 - accuracy: 0.2017\n",
      "Epoch 7/100\n",
      "3010/3010 [==============================] - 106s 35ms/step - loss: 3.9266 - accuracy: 0.2262\n",
      "Epoch 8/100\n",
      "3010/3010 [==============================] - 108s 36ms/step - loss: 3.6698 - accuracy: 0.2584\n",
      "Epoch 9/100\n",
      "3010/3010 [==============================] - 106s 35ms/step - loss: 3.4270 - accuracy: 0.2909\n",
      "Epoch 10/100\n",
      "3010/3010 [==============================] - 105s 35ms/step - loss: 3.2009 - accuracy: 0.3267\n",
      "Epoch 11/100\n",
      "3010/3010 [==============================] - 104s 34ms/step - loss: 2.9915 - accuracy: 0.3599\n",
      "Epoch 12/100\n",
      "3010/3010 [==============================] - 103s 34ms/step - loss: 2.7959 - accuracy: 0.3951\n",
      "Epoch 13/100\n",
      "3010/3010 [==============================] - 101s 34ms/step - loss: 2.6179 - accuracy: 0.4290\n",
      "Epoch 14/100\n",
      "3010/3010 [==============================] - 101s 33ms/step - loss: 2.4508 - accuracy: 0.4620\n",
      "Epoch 15/100\n",
      "3010/3010 [==============================] - 101s 34ms/step - loss: 2.3001 - accuracy: 0.4933\n",
      "Epoch 16/100\n",
      "3010/3010 [==============================] - 103s 34ms/step - loss: 2.1606 - accuracy: 0.5201\n",
      "Epoch 17/100\n",
      "3010/3010 [==============================] - 102s 34ms/step - loss: 2.0300 - accuracy: 0.5473\n",
      "Epoch 18/100\n",
      "3010/3010 [==============================] - 107s 36ms/step - loss: 1.9131 - accuracy: 0.5725\n",
      "Epoch 19/100\n",
      "3010/3010 [==============================] - 116s 39ms/step - loss: 1.8037 - accuracy: 0.5955\n",
      "Epoch 20/100\n",
      "3010/3010 [==============================] - 116s 39ms/step - loss: 1.7034 - accuracy: 0.6162\n",
      "Epoch 21/100\n",
      "3010/3010 [==============================] - 111s 37ms/step - loss: 1.6106 - accuracy: 0.6371\n",
      "Epoch 22/100\n",
      "3010/3010 [==============================] - 112s 37ms/step - loss: 1.5296 - accuracy: 0.6552\n",
      "Epoch 23/100\n",
      "3010/3010 [==============================] - 115s 38ms/step - loss: 1.4502 - accuracy: 0.6722\n",
      "Epoch 24/100\n",
      "3010/3010 [==============================] - 108s 36ms/step - loss: 1.3809 - accuracy: 0.6894\n",
      "Epoch 25/100\n",
      "3010/3010 [==============================] - 110s 37ms/step - loss: 1.3148 - accuracy: 0.7027\n",
      "Epoch 26/100\n",
      "3010/3010 [==============================] - 110s 37ms/step - loss: 1.2555 - accuracy: 0.7149\n",
      "Epoch 27/100\n",
      "3010/3010 [==============================] - 111s 37ms/step - loss: 1.2004 - accuracy: 0.7270\n",
      "Epoch 28/100\n",
      "3010/3010 [==============================] - 101s 34ms/step - loss: 1.1486 - accuracy: 0.7395\n",
      "Epoch 29/100\n",
      "3010/3010 [==============================] - 103s 34ms/step - loss: 1.1040 - accuracy: 0.7500\n",
      "Epoch 30/100\n",
      "3010/3010 [==============================] - 108s 36ms/step - loss: 1.0592 - accuracy: 0.7600\n",
      "Epoch 31/100\n",
      "3010/3010 [==============================] - 116s 39ms/step - loss: 1.0198 - accuracy: 0.7678\n",
      "Epoch 32/100\n",
      "3010/3010 [==============================] - 110s 37ms/step - loss: 0.9848 - accuracy: 0.7746\n",
      "Epoch 33/100\n",
      "3010/3010 [==============================] - 110s 36ms/step - loss: 0.9486 - accuracy: 0.7836\n",
      "Epoch 34/100\n",
      "3010/3010 [==============================] - 113s 37ms/step - loss: 0.9191 - accuracy: 0.7891\n",
      "Epoch 35/100\n",
      "3010/3010 [==============================] - 112s 37ms/step - loss: 0.8899 - accuracy: 0.7945\n",
      "Epoch 36/100\n",
      "3010/3010 [==============================] - 114s 38ms/step - loss: 0.8668 - accuracy: 0.8012\n",
      "Epoch 37/100\n",
      "3010/3010 [==============================] - 108s 36ms/step - loss: 0.8375 - accuracy: 0.8076\n",
      "Epoch 38/100\n",
      "3010/3010 [==============================] - 114s 38ms/step - loss: 0.8178 - accuracy: 0.8112\n",
      "Epoch 39/100\n",
      "3010/3010 [==============================] - 108s 36ms/step - loss: 0.7967 - accuracy: 0.8160\n",
      "Epoch 40/100\n",
      "3010/3010 [==============================] - 106s 35ms/step - loss: 0.7751 - accuracy: 0.8197\n",
      "Epoch 41/100\n",
      "3010/3010 [==============================] - 111s 37ms/step - loss: 0.7587 - accuracy: 0.8231\n",
      "Epoch 42/100\n",
      "3010/3010 [==============================] - 108s 36ms/step - loss: 0.7435 - accuracy: 0.8255\n",
      "Epoch 43/100\n",
      "3010/3010 [==============================] - 103s 34ms/step - loss: 0.7288 - accuracy: 0.8285\n",
      "Epoch 44/100\n",
      "3010/3010 [==============================] - 111s 37ms/step - loss: 0.7138 - accuracy: 0.8316\n",
      "Epoch 45/100\n",
      "3010/3010 [==============================] - 113s 38ms/step - loss: 0.7023 - accuracy: 0.8344\n",
      "Epoch 46/100\n",
      "3010/3010 [==============================] - 100s 33ms/step - loss: 0.6859 - accuracy: 0.8385\n",
      "Epoch 47/100\n",
      "3010/3010 [==============================] - 103s 34ms/step - loss: 0.6781 - accuracy: 0.8390\n",
      "Epoch 48/100\n",
      "3010/3010 [==============================] - 103s 34ms/step - loss: 0.6641 - accuracy: 0.8417\n",
      "Epoch 49/100\n",
      "3010/3010 [==============================] - 102s 34ms/step - loss: 0.6587 - accuracy: 0.8427\n",
      "Epoch 50/100\n",
      "3010/3010 [==============================] - 100s 33ms/step - loss: 0.6458 - accuracy: 0.8460\n",
      "Epoch 51/100\n",
      "3010/3010 [==============================] - 101s 34ms/step - loss: 0.6365 - accuracy: 0.8468\n",
      "Epoch 52/100\n",
      "3010/3010 [==============================] - 101s 34ms/step - loss: 0.6318 - accuracy: 0.8484\n",
      "Epoch 53/100\n",
      "3010/3010 [==============================] - 106s 35ms/step - loss: 0.6269 - accuracy: 0.8488\n",
      "Epoch 54/100\n",
      "3010/3010 [==============================] - 112s 37ms/step - loss: 0.6134 - accuracy: 0.8520\n",
      "Epoch 55/100\n",
      "3010/3010 [==============================] - 104s 35ms/step - loss: 0.6074 - accuracy: 0.8531\n",
      "Epoch 56/100\n",
      "3010/3010 [==============================] - 105s 35ms/step - loss: 0.6069 - accuracy: 0.8520\n",
      "Epoch 57/100\n",
      "3010/3010 [==============================] - 104s 35ms/step - loss: 0.6000 - accuracy: 0.8537\n",
      "Epoch 58/100\n",
      "3010/3010 [==============================] - 102s 34ms/step - loss: 0.5919 - accuracy: 0.8556\n",
      "Epoch 59/100\n",
      "3010/3010 [==============================] - 102s 34ms/step - loss: 0.5883 - accuracy: 0.8557\n",
      "Epoch 60/100\n",
      "3010/3010 [==============================] - 102s 34ms/step - loss: 0.5832 - accuracy: 0.8568\n",
      "Epoch 61/100\n",
      "3010/3010 [==============================] - 102s 34ms/step - loss: 0.5759 - accuracy: 0.8587\n",
      "Epoch 62/100\n",
      "3010/3010 [==============================] - 103s 34ms/step - loss: 0.5774 - accuracy: 0.8570\n",
      "Epoch 63/100\n",
      "3010/3010 [==============================] - 105s 35ms/step - loss: 0.5739 - accuracy: 0.8568\n",
      "Epoch 64/100\n",
      "3010/3010 [==============================] - 102s 34ms/step - loss: 0.5654 - accuracy: 0.8600\n",
      "Epoch 65/100\n",
      "3010/3010 [==============================] - 102s 34ms/step - loss: 0.5653 - accuracy: 0.8593\n",
      "Epoch 66/100\n",
      "3010/3010 [==============================] - 102s 34ms/step - loss: 0.5620 - accuracy: 0.8596\n",
      "Epoch 67/100\n",
      "3010/3010 [==============================] - 102s 34ms/step - loss: 0.5597 - accuracy: 0.8600\n",
      "Epoch 68/100\n",
      "3010/3010 [==============================] - 103s 34ms/step - loss: 0.5535 - accuracy: 0.8603\n",
      "Epoch 69/100\n",
      "3010/3010 [==============================] - 103s 34ms/step - loss: 0.5539 - accuracy: 0.8606\n",
      "Epoch 70/100\n",
      "3010/3010 [==============================] - 103s 34ms/step - loss: 0.5498 - accuracy: 0.8618\n",
      "Epoch 71/100\n",
      "3010/3010 [==============================] - 102s 34ms/step - loss: 0.5465 - accuracy: 0.8616\n",
      "Epoch 72/100\n",
      "3010/3010 [==============================] - 102s 34ms/step - loss: 0.5456 - accuracy: 0.8617\n",
      "Epoch 73/100\n",
      "3010/3010 [==============================] - 114s 38ms/step - loss: 0.5432 - accuracy: 0.8623\n",
      "Epoch 74/100\n",
      "3010/3010 [==============================] - 111s 37ms/step - loss: 0.5415 - accuracy: 0.8627\n",
      "Epoch 75/100\n",
      "3010/3010 [==============================] - 115s 38ms/step - loss: 0.5347 - accuracy: 0.8644\n",
      "Epoch 76/100\n",
      "3010/3010 [==============================] - 108s 36ms/step - loss: 0.5372 - accuracy: 0.8628\n",
      "Epoch 77/100\n",
      "3010/3010 [==============================] - 107s 36ms/step - loss: 0.5394 - accuracy: 0.8615\n",
      "Epoch 78/100\n",
      "3010/3010 [==============================] - 111s 37ms/step - loss: 0.5341 - accuracy: 0.8625\n",
      "Epoch 79/100\n",
      "3010/3010 [==============================] - 114s 38ms/step - loss: 0.5361 - accuracy: 0.8623\n",
      "Epoch 80/100\n",
      "3010/3010 [==============================] - 106s 35ms/step - loss: 0.5321 - accuracy: 0.8638\n",
      "Epoch 81/100\n",
      "3010/3010 [==============================] - 109s 36ms/step - loss: 0.5273 - accuracy: 0.8640\n",
      "Epoch 82/100\n",
      "3010/3010 [==============================] - 113s 38ms/step - loss: 0.5278 - accuracy: 0.8630\n",
      "Epoch 83/100\n",
      "3010/3010 [==============================] - 112s 37ms/step - loss: 0.5280 - accuracy: 0.8632\n",
      "Epoch 84/100\n",
      "3010/3010 [==============================] - 111s 37ms/step - loss: 0.5281 - accuracy: 0.8643\n",
      "Epoch 85/100\n",
      "3010/3010 [==============================] - 107s 36ms/step - loss: 0.5215 - accuracy: 0.8651\n",
      "Epoch 86/100\n",
      "3010/3010 [==============================] - 110s 37ms/step - loss: 0.5254 - accuracy: 0.8632\n",
      "Epoch 87/100\n",
      "3010/3010 [==============================] - 109s 36ms/step - loss: 0.5216 - accuracy: 0.8644\n",
      "Epoch 88/100\n",
      "3010/3010 [==============================] - 103s 34ms/step - loss: 0.5229 - accuracy: 0.8639\n",
      "Epoch 89/100\n",
      "3010/3010 [==============================] - 103s 34ms/step - loss: 0.5145 - accuracy: 0.8668\n",
      "Epoch 90/100\n",
      "3010/3010 [==============================] - 105s 35ms/step - loss: 0.5139 - accuracy: 0.8667\n",
      "Epoch 91/100\n",
      "3010/3010 [==============================] - 121s 40ms/step - loss: 0.5196 - accuracy: 0.8639\n",
      "Epoch 92/100\n",
      "3010/3010 [==============================] - 117s 39ms/step - loss: 0.5200 - accuracy: 0.8634\n",
      "Epoch 93/100\n",
      "3010/3010 [==============================] - 621s 206ms/step - loss: 0.5168 - accuracy: 0.8657\n",
      "Epoch 94/100\n",
      "3010/3010 [==============================] - 111s 37ms/step - loss: 0.5185 - accuracy: 0.8635\n",
      "Epoch 95/100\n",
      "3010/3010 [==============================] - 112s 37ms/step - loss: 0.5121 - accuracy: 0.8662\n",
      "Epoch 96/100\n",
      "3010/3010 [==============================] - 124s 41ms/step - loss: 0.5147 - accuracy: 0.8647\n",
      "Epoch 97/100\n",
      "3010/3010 [==============================] - 114s 38ms/step - loss: 0.5189 - accuracy: 0.8632\n",
      "Epoch 98/100\n",
      "3010/3010 [==============================] - 109s 36ms/step - loss: 0.5120 - accuracy: 0.8654\n",
      "Epoch 99/100\n",
      "3010/3010 [==============================] - 106s 35ms/step - loss: 0.5131 - accuracy: 0.8657\n",
      "Epoch 100/100\n",
      "3010/3010 [==============================] - 111s 37ms/step - loss: 0.5125 - accuracy: 0.8650\n"
     ]
    },
    {
     "data": {
      "text/plain": [
       "<keras.callbacks.History at 0x1b1d0a12df0>"
      ]
     },
     "execution_count": 8,
     "metadata": {},
     "output_type": "execute_result"
    }
   ],
   "source": [
    "model.compile(loss='categorical_crossentropy', optimizer='adam', metrics=['accuracy'])\n",
    "model.fit(X, y, epochs=100, verbose=1)"
   ]
  },
  {
   "cell_type": "code",
   "execution_count": 9,
   "id": "81654008",
   "metadata": {},
   "outputs": [
    {
     "name": "stdout",
     "output_type": "stream",
     "text": [
      "1/1 [==============================] - 1s 1s/step\n",
      "1/1 [==============================] - 0s 28ms/step\n",
      "1/1 [==============================] - 0s 21ms/step\n",
      "I will leave if they like nothing of\n"
     ]
    }
   ],
   "source": [
    "seed_text = \"I will leave if they\"\n",
    "next_words = 3\n",
    "\n",
    "for _ in range(next_words):\n",
    "    token_list = tokenizer.texts_to_sequences([seed_text])[0]\n",
    "    token_list = pad_sequences([token_list], maxlen=max_sequence_len-1, padding='pre')\n",
    "    predicted = np.argmax(model.predict(token_list), axis=-1)\n",
    "    output_word = \"\"\n",
    "    for word, index in tokenizer.word_index.items():\n",
    "        if index == predicted:\n",
    "            output_word = word\n",
    "            break\n",
    "    seed_text += \" \" + output_word\n",
    "\n",
    "print(seed_text)"
   ]
  },
  {
   "cell_type": "markdown",
   "id": "63d42fb2",
   "metadata": {},
   "source": [
    "# Summary\n",
    "Next word prediction is a language modelling task in Machine Learning that aims to predict the most probable word or sequence of words that follows a given input context. This task utilizes statistical patterns and linguistic structures to generate accurate predictions based on the context provided. "
   ]
  },
  {
   "cell_type": "code",
   "execution_count": null,
   "id": "7378181d",
   "metadata": {},
   "outputs": [],
   "source": []
  }
 ],
 "metadata": {
  "kernelspec": {
   "display_name": "Python 3 (ipykernel)",
   "language": "python",
   "name": "python3"
  },
  "language_info": {
   "codemirror_mode": {
    "name": "ipython",
    "version": 3
   },
   "file_extension": ".py",
   "mimetype": "text/x-python",
   "name": "python",
   "nbconvert_exporter": "python",
   "pygments_lexer": "ipython3",
   "version": "3.9.13"
  }
 },
 "nbformat": 4,
 "nbformat_minor": 5
}
